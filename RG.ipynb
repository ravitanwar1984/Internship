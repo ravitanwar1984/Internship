{
 "cells": [
  {
   "cell_type": "code",
   "execution_count": 1,
   "id": "1244264a",
   "metadata": {},
   "outputs": [
    {
     "name": "stdout",
     "output_type": "stream",
     "text": [
      "Python:Exercises::PHP:exercises:\n"
     ]
    }
   ],
   "source": [
    "text = 'Python Exercises, PHP exercises.'\n",
    "text = text.replace(' ', ':')\n",
    "text = text.replace(',', ':')\n",
    "text = text.replace('.', ':')\n",
    "\n",
    "print(text)"
   ]
  },
  {
   "cell_type": "code",
   "execution_count": 2,
   "id": "6a32fe6a",
   "metadata": {},
   "outputs": [
    {
     "name": "stdout",
     "output_type": "stream",
     "text": [
      "         SUMMARY\n",
      "0    hello world\n",
      "1           test\n",
      "2  four five six\n"
     ]
    }
   ],
   "source": [
    "import pandas as pd\n",
    "import re\n",
    "\n",
    "data = {'SUMMARY': ['hello, world!', 'XXXXX test', '123four, five:; six...']}\n",
    "df = pd.DataFrame(data)\n",
    "df['SUMMARY'] = df['SUMMARY'].apply(lambda x: re.sub(r'[^\\w\\s]|XXXXX|\\d+', '', x))\n",
    "\n",
    "print(df)"
   ]
  },
  {
   "cell_type": "code",
   "execution_count": 3,
   "id": "92fee375",
   "metadata": {},
   "outputs": [
    {
     "name": "stdout",
     "output_type": "stream",
     "text": [
      "['This', 'sample', 'string', 'example', 'purposes', 'only']\n"
     ]
    }
   ],
   "source": [
    "def find_words(string):\n",
    "    pattern = re.compile(r'\\b\\w{4,}\\b')\n",
    "    words = pattern.findall(string)\n",
    "    return words\n",
    "string = 'This is a sample string for example purposes only'\n",
    "words = find_words(string)\n",
    "print(words)"
   ]
  },
  {
   "cell_type": "code",
   "execution_count": 4,
   "id": "d64ad072",
   "metadata": {},
   "outputs": [
    {
     "name": "stdout",
     "output_type": "stream",
     "text": [
      "['This', 'for', 'only']\n"
     ]
    }
   ],
   "source": [
    "def find_words(string):\n",
    "    pattern = re.compile(r'\\b\\w{3,5}\\b')\n",
    "    words = pattern.findall(string)\n",
    "    return words\n",
    "string = 'This is a sample string for example purposes only'\n",
    "words = find_words(string)\n",
    "print(words)"
   ]
  },
  {
   "cell_type": "code",
   "execution_count": 5,
   "id": "2171c93c",
   "metadata": {},
   "outputs": [
    {
     "name": "stdout",
     "output_type": "stream",
     "text": [
      "['example .com', 'hr@fliprobo .com', 'github .com', 'Hello Data Science World', 'Data Scientist']\n"
     ]
    }
   ],
   "source": [
    "import re\n",
    "\n",
    "def remove_parenthesis(lst):\n",
    "    pattern = re.compile(r'\\([^)]\\)')\n",
    "    new_lst = [pattern.sub('', s).strip().replace('(', '').replace(')', '') for s in lst]\n",
    "    return new_lst\n",
    "lst = [\"example (.com)\", \"hr@fliprobo (.com)\", \"github (.com)\", \"Hello (Data Science World)\", \"Data (Scientist)\"]\n",
    "new_lst = remove_parenthesis(lst)\n",
    "print(new_lst)"
   ]
  },
  {
   "cell_type": "code",
   "execution_count": 6,
   "id": "b2d44d64",
   "metadata": {},
   "outputs": [
    {
     "name": "stdout",
     "output_type": "stream",
     "text": [
      "example\n",
      "hr@fliprobo\n",
      "github\n",
      "Hello\n",
      "Data\n",
      "['example(.com)', 'hr@fliprobo(.com)', 'github(.com)', 'Hello (Data Science World)', 'Data (Scientist)']\n"
     ]
    }
   ],
   "source": [
    "import re\n",
    "\n",
    "def remove_parenthesis(lst):\n",
    "    pattern = re.compile(r'\\([^)]\\)')\n",
    "    new_lst = [pattern.sub('', s).strip().replace('(', '').replace(')', '') for s in items]\n",
    "    return items\n",
    "items = [\"example(.com)\", \"hr@fliprobo(.com)\", \"github(.com)\", \"Hello (Data Science World)\",\"Data (Scientist)\"]\n",
    "for item in items:\n",
    "    print(re.sub(r\" ?\\([^)]+\\)\",\"\",item))\n",
    "items = remove_parenthesis(items)\n",
    "print(items)"
   ]
  },
  {
   "cell_type": "code",
   "execution_count": 7,
   "id": "c1d6441d",
   "metadata": {},
   "outputs": [
    {
     "name": "stdout",
     "output_type": "stream",
     "text": [
      "['Importance', '', 'Of', '', 'Regular', '', 'Expressions', '', 'In', '', 'Python']\n"
     ]
    }
   ],
   "source": [
    "import re\n",
    "\n",
    "text = \"ImportanceOfRegularExpressionsInPython\"\n",
    "result = re.findall(r'(?<=[a-z])(?=[A-Z])|[A-Z][a-z]*', text)\n",
    "\n",
    "print(result)"
   ]
  },
  {
   "cell_type": "code",
   "execution_count": 8,
   "id": "e1d91f68",
   "metadata": {},
   "outputs": [
    {
     "name": "stdout",
     "output_type": "stream",
     "text": [
      "RegularExpression1 IsAn2 ImportantTopic3 InPython\n"
     ]
    }
   ],
   "source": [
    "def insert_spaces(text):\n",
    "    output = []\n",
    "    for i in range(len(text)):\n",
    "        if i > 0 and text[i-1].isdigit() and not text[i].isdigit():\n",
    "            output.append(\" \")\n",
    "        output.append(text[i])\n",
    "    return \"\".join(output)\n",
    "text = \"RegularExpression1IsAn2ImportantTopic3InPython\"\n",
    "print(insert_spaces(text)) "
   ]
  },
  {
   "cell_type": "code",
   "execution_count": 9,
   "id": "be4c9e63",
   "metadata": {},
   "outputs": [
    {
     "name": "stdout",
     "output_type": "stream",
     "text": [
      "Regular Expression 1 Is An 2 Important Topic 3 In Python\n"
     ]
    }
   ],
   "source": [
    "import re\n",
    "\n",
    "def insert_spaces(text):\n",
    "\n",
    "    words = re.findall('[A-Z\\d][^A-Z\\d]*', text)\n",
    "    \n",
    "    return ' '.join(words)\n",
    "\n",
    "text = \"RegularExpression1IsAn2ImportantTopic3InPython\"\n",
    "result = insert_spaces(text)\n",
    "print(result)"
   ]
  },
  {
   "cell_type": "code",
   "execution_count": 10,
   "id": "75f9f026",
   "metadata": {},
   "outputs": [
    {
     "name": "stdout",
     "output_type": "stream",
     "text": [
      "       Country          Region  Happiness Rank  Happiness Score  \\\n",
      "0  Switzerland  Western Europe               1            7.587   \n",
      "1      Iceland  Western Europe               2            7.561   \n",
      "2      Denmark  Western Europe               3            7.527   \n",
      "3       Norway  Western Europe               4            7.522   \n",
      "4       Canada   North America               5            7.427   \n",
      "\n",
      "   Standard Error  Economy (GDP per Capita)   Family  \\\n",
      "0         0.03411                   1.39651  1.34951   \n",
      "1         0.04884                   1.30232  1.40223   \n",
      "2         0.03328                   1.32548  1.36058   \n",
      "3         0.03880                   1.45900  1.33095   \n",
      "4         0.03553                   1.32629  1.32261   \n",
      "\n",
      "   Health (Life Expectancy)  Freedom  Trust (Government Corruption)  \\\n",
      "0                   0.94143  0.66557                        0.41978   \n",
      "1                   0.94784  0.62877                        0.14145   \n",
      "2                   0.87464  0.64938                        0.48357   \n",
      "3                   0.88521  0.66973                        0.36503   \n",
      "4                   0.90563  0.63297                        0.32957   \n",
      "\n",
      "   Generosity  Dystopia Residual first_five_letters  \n",
      "0     0.29678            2.51738             Switze  \n",
      "1     0.43630            2.70201             Icelan  \n",
      "2     0.34139            2.49204             Denmar  \n",
      "3     0.34699            2.46531             Norway  \n",
      "4     0.45811            2.45176             Canada  \n"
     ]
    }
   ],
   "source": [
    "import numpy as np\n",
    "import pandas as pd\n",
    "url='https://raw.githubusercontent.com/dsrscientist/DSData/master/happiness_score_dataset.csv'\n",
    "df=pd.read_csv(url)\n",
    "\n",
    "df['first_five_letters'] = df['Country'].str[:6]\n",
    "\n",
    "print(df.head())"
   ]
  },
  {
   "cell_type": "code",
   "execution_count": 11,
   "id": "e73eb84f",
   "metadata": {},
   "outputs": [
    {
     "name": "stdout",
     "output_type": "stream",
     "text": [
      "True\n",
      "False\n",
      "True\n",
      "False\n"
     ]
    }
   ],
   "source": [
    "import re\n",
    "\n",
    "def match_string(s):\n",
    "    \n",
    "    pattern = r'^[a-zA-Z0-9_]+$'\n",
    "    \n",
    "    match = re.match(pattern, s)\n",
    "    \n",
    "    return bool(match)\n",
    "string1 = \"Hello_world123\"\n",
    "string2 = \"Hello World\"\n",
    "string3 = \"Hello_world\"\n",
    "string4 = \"Hello world123\"\n",
    "print(match_string(string1))\n",
    "print(match_string(string2))\n",
    "print(match_string(string3))\n",
    "print(match_string(string4))"
   ]
  },
  {
   "cell_type": "code",
   "execution_count": 12,
   "id": "1c524176",
   "metadata": {},
   "outputs": [
    {
     "name": "stdout",
     "output_type": "stream",
     "text": [
      "True\n",
      "True\n",
      "False\n"
     ]
    }
   ],
   "source": [
    "def starts_with_number(s, n):\n",
    "    \n",
    "    n_str = str(n)\n",
    "    \n",
    "    return s.startswith(n_str)\n",
    "\n",
    "\n",
    "string1 = \"123abc\"\n",
    "string2 = \"456def\"\n",
    "string3 = \"789ghi\"\n",
    "print(starts_with_number(string1, 123))  \n",
    "print(starts_with_number(string2, 456))  \n",
    "print(starts_with_number(string3, 321)) "
   ]
  },
  {
   "cell_type": "code",
   "execution_count": 13,
   "id": "b3abd724",
   "metadata": {},
   "outputs": [
    {
     "name": "stdout",
     "output_type": "stream",
     "text": [
      "192.168.1.1\n",
      "10.1.10.1\n"
     ]
    }
   ],
   "source": [
    "def remove_leading_zeros(ip_address):\n",
    "    components = ip_address.split('.')\n",
    "    components = [str(int(c)) for c in components]\n",
    "    new_ip_address = '.'.join(components)\n",
    "    return new_ip_address\n",
    "\n",
    "ip_address1 = \"192.168.001.001\"\n",
    "ip_address2 = \"010.001.010.001\"\n",
    "print(remove_leading_zeros(ip_address1))  \n",
    "print(remove_leading_zeros(ip_address2))  "
   ]
  },
  {
   "cell_type": "code",
   "execution_count": 14,
   "id": "7ec89abc",
   "metadata": {},
   "outputs": [
    {
     "name": "stdout",
     "output_type": "stream",
     "text": [
      "<re.Match object; span=(3, 19), match='August 15th 1947'>\n"
     ]
    }
   ],
   "source": [
    "import re\n",
    "\n",
    "text = \"On August 15th 1947 that India was declared independent from British colonialism, and the reins of control were handed over to the leaders of the Country.\"\n",
    "\n",
    "pattern = r\"\\b([A-Z][a-z]+) \\d{1,2}(?:st|nd|rd|th)? \\d{4}\\b\"\n",
    "\n",
    "matches = re.search(pattern, text)\n",
    "print(matches)"
   ]
  },
  {
   "cell_type": "code",
   "execution_count": 15,
   "id": "40596695",
   "metadata": {},
   "outputs": [
    {
     "name": "stdout",
     "output_type": "stream",
     "text": [
      "Searching for \"fox\" in \"The quick brown fox jumps over the lazy dog.\" ->\n",
      "Matched!\n",
      "Searching for \"dog\" in \"The quick brown fox jumps over the lazy dog.\" ->\n",
      "Matched!\n",
      "Searching for \"horse\" in \"The quick brown fox jumps over the lazy dog.\" ->\n",
      "Not Matched!\n"
     ]
    }
   ],
   "source": [
    "import re\n",
    "patterns = [ 'fox', 'dog', 'horse' ]\n",
    "text = 'The quick brown fox jumps over the lazy dog.'\n",
    "for pattern in patterns:\n",
    "    print('Searching for \"%s\" in \"%s\" ->' % (pattern, text),)\n",
    "    if re.findall(pattern,  text):\n",
    "        print('Matched!')\n",
    "    else:\n",
    "        print('Not Matched!')"
   ]
  },
  {
   "cell_type": "code",
   "execution_count": 16,
   "id": "f1cc693f",
   "metadata": {},
   "outputs": [
    {
     "name": "stdout",
     "output_type": "stream",
     "text": [
      "Original String :  The quick brown fox jumps over the lazy dog.\n",
      "Searched Word :  fox\n",
      "Index of ' fox ' :  16\n"
     ]
    }
   ],
   "source": [
    "String = 'The quick brown fox jumps over the lazy dog.'\n",
    "Search = 'fox'\n",
    "print(\"Original String : \", String)\n",
    "print(\"Searched Word : \", Search)\n",
    "index = String.find(Search)\n",
    "print(\"Index of '\", Search, \"' : \", index)"
   ]
  },
  {
   "cell_type": "code",
   "execution_count": 17,
   "id": "fee4de15",
   "metadata": {},
   "outputs": [
    {
     "name": "stdout",
     "output_type": "stream",
     "text": [
      "Original String :  Python exercises, PHP exercises, C# exercises\n",
      "Searched Word :  exercises\n",
      "Substring ' exercises ' found at position 7 to 15 : exercises\n",
      "Substring ' exercises ' found at position 22 to 30 : exercises\n",
      "Substring ' exercises ' found at position 36 to 44 : exercises\n"
     ]
    }
   ],
   "source": [
    "String = 'Python exercises, PHP exercises, C# exercises'\n",
    "pattern = 'exercises'\n",
    "print(\"Original String : \", String)\n",
    "print(\"Searched Word : \", pattern)\n",
    "\n",
    "occurrences = []\n",
    "for i in range(len(String)):\n",
    "    if String[i:i+len(pattern)] == pattern:\n",
    "        occurrences.append((i, i+len(pattern)-1))\n",
    "\n",
    "for start, end in occurrences:\n",
    "    print(\"Substring '\", pattern, \"' found at position\",\n",
    "          start, \"to\", end, \":\", String[start:end+1])"
   ]
  },
  {
   "cell_type": "code",
   "execution_count": 18,
   "id": "648caad3",
   "metadata": {},
   "outputs": [
    {
     "name": "stdout",
     "output_type": "stream",
     "text": [
      "Occurrences of substring:\n",
      "1. hello found at position 0\n",
      "2. hello found at position 13\n"
     ]
    }
   ],
   "source": [
    "text = \"hello world, hello universe\"\n",
    "substring = \"hello\"\n",
    "occurrences = []\n",
    "start = 0\n",
    "while True:\n",
    "    start = text.find(substring, start)\n",
    "    if start == -1:\n",
    "        break\n",
    "    occurrences.append(start)\n",
    "    start += len(substring)\n",
    "print(\"Occurrences of substring:\")\n",
    "for i, start in enumerate(occurrences):\n",
    "    print(f\"{i+1}. {substring} found at position {start}\")"
   ]
  },
  {
   "cell_type": "code",
   "execution_count": 19,
   "id": "016e36d3",
   "metadata": {},
   "outputs": [
    {
     "name": "stdout",
     "output_type": "stream",
     "text": [
      "Original date: 2022-10-31\n",
      "New date: 31-10-2022\n"
     ]
    }
   ],
   "source": [
    "date = \"2022-10-31\"\n",
    "\n",
    "year, month, day = date.split(\"-\")\n",
    "\n",
    "new_date = f\"{day}-{month}-{year}\"\n",
    "print(f\"Original date: {date}\")\n",
    "print(f\"New date: {new_date}\")"
   ]
  },
  {
   "cell_type": "code",
   "execution_count": 20,
   "id": "4b85ad48",
   "metadata": {},
   "outputs": [
    {
     "name": "stdout",
     "output_type": "stream",
     "text": [
      "['01.12', '145.8', '3.01', '27.25', '0.25']\n"
     ]
    }
   ],
   "source": [
    "import re\n",
    "\n",
    "def find_decimal_numbers(text):\n",
    "    pattern = re.compile(r\"\\b\\d+\\.\\d{1,2}\\b\")\n",
    "    matches = pattern.findall(text)\n",
    "    return matches\n",
    "text = \"01.12 0132.123 2.31875 145.8 3.01 27.25 0.25\"\n",
    "matches = find_decimal_numbers(text)\n",
    "print(matches)"
   ]
  },
  {
   "cell_type": "code",
   "execution_count": 21,
   "id": "aa45ec1c",
   "metadata": {},
   "outputs": [
    {
     "name": "stdout",
     "output_type": "stream",
     "text": [
      "Number: 12 found at position 3\n",
      "Number: 15 found at position 5\n",
      "Number: 7 found at position 8\n"
     ]
    }
   ],
   "source": [
    "text = \"There are 12 apples, 15 oranges, and 7 bananas in the basket.\"\n",
    "numbers = []\n",
    "for i, word in enumerate(text.split()):\n",
    "    if word.isdigit():\n",
    "       numbers.append((int(word), i))\n",
    "for number in numbers:\n",
    "    print(f\"Number: {number[0]} found at position {number[1]+1}\")"
   ]
  },
  {
   "cell_type": "code",
   "execution_count": 22,
   "id": "2d11a8eb",
   "metadata": {},
   "outputs": [
    {
     "name": "stdout",
     "output_type": "stream",
     "text": [
      "950\n"
     ]
    }
   ],
   "source": [
    "import re\n",
    "text = \"My marks in each semester are: 947, 896, 926, 524, 734, 950, 642\"\n",
    "matches = re.findall(r\"\\d+\", text)\n",
    "maximum = max(map(int, matches))\n",
    "print(maximum)"
   ]
  },
  {
   "cell_type": "code",
   "execution_count": 23,
   "id": "263bc83c",
   "metadata": {},
   "outputs": [
    {
     "name": "stdout",
     "output_type": "stream",
     "text": [
      "Regular Expression Is An Important Topic In Python\n"
     ]
    }
   ],
   "source": [
    "def insert_spaces(text):\n",
    "    new_text = text[0]\n",
    "    for i in range(1, len(text)):\n",
    "        if text[i].isupper() and text[i-1].islower():\n",
    "            new_text += \" \"\n",
    "        new_text += text[i]\n",
    "    return new_text\n",
    "text = \"RegularExpressionIsAnImportantTopicInPython\"\n",
    "new_text = insert_spaces(text)\n",
    "print(new_text)"
   ]
  },
  {
   "cell_type": "code",
   "execution_count": 24,
   "id": "c494b84b",
   "metadata": {},
   "outputs": [
    {
     "name": "stdout",
     "output_type": "stream",
     "text": [
      "['Hello', 'How', 'Hope', 'You', 'Are', 'Doing', 'Well', 'Did', 'You', 'Enjoy', 'The', 'Weather', 'Yesterday']\n"
     ]
    }
   ],
   "source": [
    "import re\n",
    "text = \"Hello world! How are you today? IHopeYouAreDoingWell. DidYouEnjoyTheWeatherYesterday?\"\n",
    "pattern = r\"[A-Z][a-z]+\"\n",
    "matches = re.findall(pattern, text)\n",
    "print(matches)"
   ]
  },
  {
   "cell_type": "code",
   "execution_count": 25,
   "id": "899d3c6a",
   "metadata": {},
   "outputs": [
    {
     "name": "stdout",
     "output_type": "stream",
     "text": [
      "Hello hello world\n"
     ]
    }
   ],
   "source": [
    "import re\n",
    "text = \"Hello hello world world\"\n",
    "new_text = re.sub(r\"\\b(\\w+)( \\1\\b)+\", r\"\\1\", text)\n",
    "print(new_text)"
   ]
  },
  {
   "cell_type": "code",
   "execution_count": 26,
   "id": "76ab60bc",
   "metadata": {},
   "outputs": [
    {
     "name": "stdout",
     "output_type": "stream",
     "text": [
      "Enter a string ending with an alphanumeric character: Ravi_123\n",
      "String is valid.\n"
     ]
    }
   ],
   "source": [
    "import re\n",
    "text = input(\"Enter a string ending with an alphanumeric character: \")\n",
    "if re.search(r\"\\w$\", text):\n",
    "    print(\"String is valid.\")\n",
    "else:\n",
    "    print(\"String is invalid.\")"
   ]
  },
  {
   "cell_type": "code",
   "execution_count": 27,
   "id": "e70d0415",
   "metadata": {},
   "outputs": [
    {
     "name": "stdout",
     "output_type": "stream",
     "text": [
      "['#Doltiwal', '#xyzabc', '#Demonetization']\n"
     ]
    }
   ],
   "source": [
    "import re\n",
    "\n",
    "text = 'RT @kapil_kausik: #Doltiwal I mean #xyzabc is \"hurt\" by #Demonetization as the same has rendered USELESS <ed><U+00A0><U+00BD><ed><U+00B1><U+0089> \"acquired funds\" No wo'\n",
    "hashtags = re.findall(r\"#\\w+\", text)\n",
    "\n",
    "print(hashtags)"
   ]
  },
  {
   "cell_type": "code",
   "execution_count": 28,
   "id": "11bea8f5",
   "metadata": {},
   "outputs": [
    {
     "name": "stdout",
     "output_type": "stream",
     "text": [
      "@Jags123456 Bharat band on 28??<ed><ed>Those who  are protesting #demonetization  are all different party leaders\n"
     ]
    }
   ],
   "source": [
    "import re\n",
    "\n",
    "text = \"@Jags123456 Bharat band on 28??<ed><U+00A0><U+00BD><ed><U+00B8><U+0082>Those who  are protesting #demonetization  are all different party leaders\"\n",
    "\n",
    "clean_text = re.sub('<U\\+[\\dA-F]{4}>', '', text)\n",
    "\n",
    "print(clean_text)"
   ]
  },
  {
   "cell_type": "code",
   "execution_count": 29,
   "id": "44eeee94",
   "metadata": {},
   "outputs": [
    {
     "name": "stdout",
     "output_type": "stream",
     "text": [
      "['12-09-1992', '15-12-1999']\n"
     ]
    }
   ],
   "source": [
    "import re\n",
    "text = \"Ron was born on 12-09-1992 and he was admitted to school 15-12-1999.\"\n",
    "\n",
    "dates = re.findall(r'\\d{2}-\\d{2}-\\d{4}', text)\n",
    "print(dates)"
   ]
  },
  {
   "cell_type": "code",
   "execution_count": 30,
   "id": "62a470c4",
   "metadata": {},
   "outputs": [
    {
     "name": "stdout",
     "output_type": "stream",
     "text": [
      " following example creates  ArrayList  a capacity   elements. 4 elements   added   ArrayList   ArrayList  trimmed accordingly.\n"
     ]
    }
   ],
   "source": [
    "import re\n",
    "\n",
    "def remove_short_words(string):\n",
    "    pattern = re.compile(r'\\b\\w{2,4}\\b')\n",
    "    return pattern.sub('', string)\n",
    "\n",
    "# Example usage\n",
    "text = \"The following example creates an ArrayList with a capacity of 50 elements. 4 elements are then added to the ArrayList and the ArrayList is trimmed accordingly.\"\n",
    "text_without_short_words = remove_short_words(text)\n",
    "print(text_without_short_words)"
   ]
  },
  {
   "cell_type": "code",
   "execution_count": null,
   "id": "25de142c",
   "metadata": {},
   "outputs": [],
   "source": []
  }
 ],
 "metadata": {
  "kernelspec": {
   "display_name": "Python 3 (ipykernel)",
   "language": "python",
   "name": "python3"
  },
  "language_info": {
   "codemirror_mode": {
    "name": "ipython",
    "version": 3
   },
   "file_extension": ".py",
   "mimetype": "text/x-python",
   "name": "python",
   "nbconvert_exporter": "python",
   "pygments_lexer": "ipython3",
   "version": "3.11.3"
  }
 },
 "nbformat": 4,
 "nbformat_minor": 5
}
